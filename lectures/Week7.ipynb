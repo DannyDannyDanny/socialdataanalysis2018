{
 "cells": [
  {
   "cell_type": "markdown",
   "metadata": {},
   "source": [
    "# Week 7\n",
    "\n",
    "This week we will go old-school. Instead of a video, I give a little IRL lecture, where I talk a little bit about how the line between exploratory data analysis and explanatory data analysis sometimes can get blurred. This will hopefully set up the connection to week 8 nicely.\n",
    "\n",
    "(I'll also discuss the evaluation and the final project)\n",
    "\n",
    "Speaking about the evaluation, there are still many of you that feel the course is a lot of work - e.g. in terms of reading. Well, I have good news for you. From now on, there will be even less reading, unless you haven´t finished the book already - in which case, ***get cracking!*** \n",
    "\n",
    "If you have finished the book then rejoice as we have done all the data manipulation needed for you, so you only have this single simple visualization to do. "
   ]
  },
  {
   "cell_type": "markdown",
   "metadata": {},
   "source": [
    "## Part 1: Murders, Maps and Brushing\n",
    "\n",
    "The bulk of the work today will be creating a new variation of last week's exercise, playing around with the NYC crime data. \n",
    "\n",
    "> *Exercise*: Create a visualization of murders in all of NYC over time. The visualization should be based on a brushable timeline. The timeline should contain the number of murder incident reports each day across the entire time-period. A user should be able to filter the map by selecting a section of the timeline.  When the brush is moved or changed the map should update. \n",
    "\n",
    "> Opional (but not too difficult). Create a button that animates a moving brush window.\n",
    "\n",
    "Here is a short video showing one interpretation result (once credit to Nicolai)."
   ]
  },
  {
   "cell_type": "code",
   "execution_count": 1,
   "metadata": {},
   "outputs": [
    {
     "data": {
      "text/html": [
       "\n",
       "        <iframe\n",
       "            width=\"800\"\n",
       "            height=\"450\"\n",
       "            src=\"https://www.youtube.com/embed/sKxPMvM2eno\"\n",
       "            frameborder=\"0\"\n",
       "            allowfullscreen\n",
       "        ></iframe>\n",
       "        "
      ],
      "text/plain": [
       "<IPython.lib.display.YouTubeVideo at 0x1085b3bd0>"
      ]
     },
     "execution_count": 1,
     "metadata": {},
     "output_type": "execute_result"
    }
   ],
   "source": [
    "from IPython.display import YouTubeVideo\n",
    "YouTubeVideo(\"sKxPMvM2eno\",width=800, height=450)"
   ]
  },
  {
   "cell_type": "markdown",
   "metadata": {},
   "source": [
    "A before, we provide a set of tips for creating the viz. \n",
    "\n",
    "You can create it from scratch, but it might be instructive/useful to base this on last week's viz. So we'll provide directions starting from that one.\n",
    "\n",
    "#### Get the data\n",
    "First get [this csv file](https://raw.githubusercontent.com/suneman/socialdataanalysis2018/master/files/all_murder.csv), it contains time/location for all the murders from 2006 to 2016.\n",
    "\n",
    "#### One step backwards\n",
    "Get rid of the barchart for now and disable the brush on the map. \n",
    " \n",
    "#### Two steps forward\n",
    "You need to figure out how to count the reported incidents of murder each day and how to display it.\n",
    "* Count up the murders each day, you can accomplish this for example using `d3.nest()`. If you used `d3.nest` you should have a familiar array of objects with two attributes. \n",
    "* Create a line graph to display the data, the axes should be comparable to the ones in the video.\n",
    "\n",
    "#### Brush\n",
    "Now we need to add the brush.\n",
    "* Add a visual brush selection on the timeline graph.\n",
    "* Update the points on the map so that only points with brushed dates are shown.\n",
    "* Make sure that the points seen on the map at any time are just the points with dates within the selection.\n",
    "* Make sure all points are displayed when there is no brush selection.\n",
    "\n",
    "#### Play\n",
    "* Add a button somewhere on the web-page.\n",
    "* When the button is pressed have a brush window of x days transition from the beginning to the end.\n",
    " \n",
    "#### Make it look good\n",
    "* Style the map and timeline any way you like. \n",
    " \n",
    "#### Bar-chart bonuses (This part optional)\n",
    "If you finished the timeline in no time and you feel unsatiated, then here is a little extra for you.\n",
    "* Add the bar-chart back in and let it represent the reported murder incidents of each hour in total for all the days selected with the timeline brush.\n",
    "\n",
    "If this wasn't enough for you then here is an extra extra. \n",
    "* Add the map brush back in and have it cross-filter with the other brush so only the murder incidents filtered by both brushes are shown on the map, barchart and timelineline.\n",
    "* Add in the third selection filter on the barchart for good measure."
   ]
  },
  {
   "cell_type": "code",
   "execution_count": null,
   "metadata": {},
   "outputs": [],
   "source": []
  }
 ],
 "metadata": {
  "kernelspec": {
   "display_name": "Python 2",
   "language": "python",
   "name": "python2"
  },
  "language_info": {
   "codemirror_mode": {
    "name": "ipython",
    "version": 2
   },
   "file_extension": ".py",
   "mimetype": "text/x-python",
   "name": "python",
   "nbconvert_exporter": "python",
   "pygments_lexer": "ipython2",
   "version": "2.7.14"
  }
 },
 "nbformat": 4,
 "nbformat_minor": 2
}
