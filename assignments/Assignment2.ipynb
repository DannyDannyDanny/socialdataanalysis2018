{
 "cells": [
  {
   "cell_type": "markdown",
   "metadata": {},
   "source": [
    "# Assignment 2.\n",
    "\n",
    "## Formalia:\n",
    "\n",
    "Please read the [assignment overview page](https://github.com/suneman/socialdataanalysis2018/wiki/Assignments) carefully before proceeding. This page contains information about formatting (including formats etc), group sizes, and many other aspects of handing in the assignment. \n",
    "\n",
    "_If you fail to follow these simple instructions, it will negatively impact your grade!_\n",
    "\n",
    "**Due date and time**: The assignment is due on Monday April 2nd, 2018 at 23:55. Hand in your files via [`http://peergrade.io`](http://peergrade.io/).\n",
    "\n",
    "**Peergrading date and time**: _Remember that after handing in you have about week to evaluate a few assignments written by other members of the class_. Thus, the peer evaluations are due on Monday April 9th, 2018 at 23:55."
   ]
  },
  {
   "cell_type": "markdown",
   "metadata": {
    "collapsed": true
   },
   "source": [
    "## Part 1: Telling Data Stories\n",
    "\n",
    "The questions below refer to Edward Segel and Jeffrey Heer. [Narrative Visualization: Telling Stories with Data](http://vis.stanford.edu/files/2010-Narrative-InfoVis.pdf).\n",
    "\n",
    "* What is the Oxford English Dictionary's defintion of a narrative?\n",
    "* What is your favorite visualization among the examples in section 3? Explain why in a few words.\n",
    "* What's the point of Figure 7?\n",
    "* Use Figure 7 to find the most common design choice within each category for the Visual narrative and Narrative structure (the categories within visual narrative are 'visual structuring', 'highlighting', etc).\n",
    "* Check out Figure 8 and section 4.3. \n",
    "  - What is your favorite genre of narrative visualization? Why? \n",
    "  - What is your least favorite genre? Why?"
   ]
  },
  {
   "cell_type": "markdown",
   "metadata": {},
   "source": [
    "## Part 2: Visualizing Murders over Time\n",
    "\n",
    "*Exercise*: Create a visualization of murders in all of NYC over time. \n",
    "- The visualization should be based on a brushable timeline. \n",
    "- The timeline should contain the number of murder incident reports each day across the entire time-period. \n",
    "- A user should be able to filter the map by selecting a section of the timeline. \n",
    "- When the brush is moved or changed the map should update.\n",
    "- Opional (but not too difficult). Create a button that animates a moving brush window.\n",
    "\n",
    "See [Week 7's lecture](https://nbviewer.jupyter.org/github/suneman/socialdataanalysis2018/blob/master/lectures/Week7.ipynb) for tips on how to create this visualization and what it should look like."
   ]
  },
  {
   "cell_type": "code",
   "execution_count": null,
   "metadata": {
    "collapsed": true
   },
   "outputs": [],
   "source": []
  }
 ],
 "metadata": {
  "anaconda-cloud": {},
  "kernelspec": {
   "display_name": "Python [default]",
   "language": "python",
   "name": "python2"
  },
  "language_info": {
   "codemirror_mode": {
    "name": "ipython",
    "version": 2
   },
   "file_extension": ".py",
   "mimetype": "text/x-python",
   "name": "python",
   "nbconvert_exporter": "python",
   "pygments_lexer": "ipython2",
   "version": "2.7.12"
  }
 },
 "nbformat": 4,
 "nbformat_minor": 2
}
